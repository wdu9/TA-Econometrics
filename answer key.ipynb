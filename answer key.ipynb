{
 "cells": [
  {
   "cell_type": "markdown",
   "id": "4e216f2e",
   "metadata": {
    "pycharm": {
     "name": "#%% md\n"
    }
   },
   "source": [
    "# Problem Set 3"
   ]
  },
  {
   "cell_type": "markdown",
   "id": "8b0f599c690d603c",
   "metadata": {
    "collapsed": false,
    "pycharm": {
     "name": "#%% md\n"
    }
   },
   "source": [
    "### Question 1:\n",
    "Suppose we are running the following regression:\n",
    "$$\n",
    "Y_i = \\beta_0 + \\beta_1 X_i + U_i\n",
    "$$\n",
    "Let $\\hat{\\beta}_0$ and $\\hat{\\beta}_1$ be the corresponding OLS estimator.\n",
    "\n",
    "1. How are $\\hat{\\beta}_0$ and $\\hat{\\beta}_1$ computed from a random sample?\n",
    "2. Explain why $\\hat{\\beta}_1$ is random and has a distribution.\n",
    "3. Suppose we have the following regression result:\n",
    "$$\n",
    "\\hat{Y} = 238 + 2.5 \\times X\n",
    "$$\n",
    "Please provide a prediction for $Y$ given $X = 0.5$. Explain the difference between $\\mathbb E(Y_i|X_i)$ and the result that you get.\n",
    "\n",
    "4. Suppose the distribution of $\\beta_1$ can be approximated by the following Normal distribution,\n",
    "$$\n",
    "\\hat{\\beta}_1 \\sim N(\\beta_1, \\sigma^2_{\\hat{\\beta}_1})\n",
    "$$\n",
    "where\n",
    "$$\n",
    "\\sigma^2_{\\hat{\\beta}_1} = \\frac{1}{n} \\frac{Var[(X_i - \\mu_X)U_i]}{[Var(X_i)]^2}.\n",
    "$$\n",
    "Explain how can we estimate $\\sigma^2_{\\hat{\\beta}_1}$."
   ]
  },
  {
   "cell_type": "markdown",
   "id": "5743dd0b12452ab6",
   "metadata": {
    "collapsed": false,
    "pycharm": {
     "name": "#%% md\n"
    }
   },
   "source": [
    "**Solution**:\n",
    "\n",
    "1. $\\hat{\\beta}_0$ and $\\hat{\\beta}_1$ minimizes the following quadratic loss function\n",
    "$$\n",
    "\\min_{b_0, b_1} \\frac{1}{n}\\sum_i (Y_i - b_0 - b_1 X_i)^2.\n",
    "$$\n",
    "Since the loss function depends on the sample, $\\hat{\\beta}_0$ and $\\hat{\\beta}_1$ are also functions of the sample.\n",
    "\n",
    "2. Since $\\hat{\\beta}_0$ and $\\hat{\\beta}_1$ are also functions of the random sample, they are all random variables. \n",
    "\n",
    "3. Given this sample regression line, we can predict $Y$ as $\\hat{Y} = 238 + 2.5 * 0.5 = 239.25$. This is can estimate for $\\mathbb E(Y_i | X_i = 0.5)$. Because the sample regression line is random, this prediction is also random. Under suitable assumptions, this predicted value will converge to $\\mathbb E(Y_i | X_i = 0.5)$ as the sample size increases to infinity.\n",
    "\n",
    "4. We can estimate $\\sigma^2_{\\hat{\\beta}_1}$ using  $\\hat{\\sigma}^2_{\\hat{\\beta}_1}$ defined as follows:\n",
    "\n",
    "$$\n",
    "\\hat{\\sigma}^2_{\\hat{\\beta}_1} = \\frac{1}{n} \\frac{\\widehat{Var}[(X_i - \\overline{X})\\hat{U}_i]}{[\\hat{\\sigma}^2_X]^2}.\n",
    "$$\n",
    "where\n",
    "- $\\overline{X}$ is the sample average of $X$, i.e.,  $\\overline{X} = \\frac{1}{n}\\sum_{i=1}^n X_i$. \n",
    "- $\\hat{\\sigma}^2_X$ is the sample variance for $X$, i.e., $\\hat{\\sigma}^2_X = \\frac{1}{n-1}\\sum_{i=1}^n (X_i - \\overline{X})^2$\n",
    "- $\\hat{U}_i = Y_i - \\hat{\\beta}_0 - \\hat{\\beta}_1 X_i$ is the residual for $i$th observation\n",
    "- $\\widehat{Var}[(X_i - \\overline{X})\\hat{U}_i]$ is the sample variance for $(X_i - \\overline{X})\\hat{U}_i$, i.e., \n",
    "$$\n",
    "\\widehat{Var}[(X_i - \\overline{X})\\hat{U}_i] = \\frac{1}{n-1}\\sum_{i=1}^n [(X_i - \\overline{X})\\hat{U}_i]^2\n",
    "$$\n",
    "*It can be shown that the sample average of $(X_i - \\overline{X})\\hat{U}_i$ is always zero.*"
   ]
  },
  {
   "cell_type": "markdown",
   "id": "fdf69b75cc542d15",
   "metadata": {
    "collapsed": false,
    "pycharm": {
     "name": "#%% md\n"
    }
   },
   "source": [
    "### Question 2:\n",
    "\n",
    "(1) Explain how $R^2$ measures the fit of a regression. \n",
    "\n",
    "(2) What is the unit of $R^2$?\n",
    "\n",
    "(3) What does $R^2$ close to 0 mean? What does R2 close to 1 mean?"
   ]
  },
  {
   "cell_type": "markdown",
   "id": "e2ae5b9ed25b07f0",
   "metadata": {
    "collapsed": false,
    "pycharm": {
     "name": "#%% md\n"
    }
   },
   "source": [
    "**Solution**: $R^2$ is unit free. It is always between $0$ and $1$. Higher value of $R^2$ indicates a better fit for the regression. $R^2 = 1$ indicates a perfect fitting, while $R^2 = 0$ shows that covariates $X$ has no predicition power for $Y$."
   ]
  },
  {
   "cell_type": "markdown",
   "id": "91e5835daafadda6",
   "metadata": {
    "collapsed": false,
    "pycharm": {
     "name": "#%% md\n"
    }
   },
   "source": [
    "### Question 3:\n",
    "\n",
    "\\paragraph{Question 3} Suppose the following potential outcome model:\n",
    "$$\n",
    "Y_i(x) = \\beta_0 + \\beta_1 x + U_i\n",
    "$$\n",
    "\n",
    "(1) In what sense, $\\beta_1$ measures the causal effect?\n",
    "\n",
    "(2) Suppose we are running the following regression for prediction:\n",
    "$$\n",
    "\\mathbb{E}[Y_i|X_i] = \\alpha_0 + \\alpha_1 X_i\n",
    "$$\n",
    "When would $\\alpha_1 = \\beta_1$? What are the assumptions needed to ensure that the OLS estimator converge to the true causal effect?\n",
    "\\end{enumerate}\n"
   ]
  },
  {
   "cell_type": "markdown",
   "id": "d8d3159a",
   "metadata": {},
   "source": [
    "**Solution** \n",
    "\n",
    "(1) $\\beta_1$ measures the ATE when we change the $x$ from its value to $x+1$. That is, $\\beta_1 = \\mathbb E[Y_i(x + 1) - Y_i(x)]$. In general, $\\beta_1 \\Delta x$ measures  the ATE when we change the $x$ from its value to $x+\\Delta x$. That is, $\\beta_1\\Delta = \\mathbb E[Y_i(x + \\Delta x) - Y_i(x)]$.\n",
    "\n",
    "(2). Here, $\\beta_1$ is the value that measures the causal effect. $\\alpha_1$ is the slope coefficient in the linear regression. These two parameters equal to each other under the exogeneity condition: $\\mathbb E[U_i|X] = 0$. "
   ]
  },
  {
   "cell_type": "markdown",
   "id": "716d7c4e",
   "metadata": {
    "pycharm": {
     "name": "#%% md\n"
    }
   },
   "source": [
    "### Question 4: Empirical Exercise\n",
    "\n",
    "**Growth** contains data on average growth rates over 1960-1995 for 65 countries, along with variables that are potentially related to growth. These data were provided by Professor Ross Levine of Brown University and were used in his paper with, Thorsten Beck and Norman Loayza “Finance and the Sources of Growth” Journal of Financial Economics, 2000, Vol. 58, pp. 261300.\n",
    "\n",
    "| Variable      | Definition                                                                                                             |\n",
    "|---------------|------------------------------------------------------------------------------------------------------------------------|\n",
    "| Country_name  | Name of country                                                                                                        |\n",
    "| growth        | Average annual percentage growth of real Gross Domestic Product (GDP)* from 1960 to 1995.                              |\n",
    "| rgdp60        | The value of GDP* per capita in 1960, converted to 1960 US dollars                                                     |\n",
    "| tradeshare    | The average share of trade in the economy from 1960 to 1995, measured as the sum of exports plus imports, divided by GDP; that is, the average value of (X + M)/GDP from 1960 to 1995, where X = exports and M = imports (both X and M are positive).|\n",
    "| yearsshcool   | Average number of years of schooling of adult residents in that country in 1960                                        |\n",
    "| rev_coups     | Average annual number of revolutions, insurrections (successful or not) and coup d’etats in that country from 1960 to 1995 |\n",
    "| assasinations | Average annual number of political assassinations in that country from 1960 to 1995 (per million population)           |\n",
    "| oil           | = 1 if oil accounted for at least half of exports in 1960 <br> = 0 otherwise                                           |\n",
    "\n",
    "\n",
    "\n"
   ]
  },
  {
   "cell_type": "markdown",
   "id": "552f689b",
   "metadata": {
    "pycharm": {
     "name": "#%% md\n"
    }
   },
   "source": [
    "(1) Construct a scatterplot of average annual growth rate (Growth) on the average trade share (TradeShare). Does there appear to be a relationship between the variables?"
   ]
  },
  {
   "cell_type": "markdown",
   "id": "bf2ea60f",
   "metadata": {},
   "source": [
    "**Solution** \n",
    "\n",
    "Loading the dataset"
   ]
  },
  {
   "cell_type": "code",
   "execution_count": 1,
   "id": "0a622591",
   "metadata": {
    "ExecuteTime": {
     "end_time": "2023-10-10T09:50:37.904471200Z",
     "start_time": "2023-10-10T09:50:37.028399300Z"
    },
    "pycharm": {
     "name": "#%%\n"
    }
   },
   "outputs": [
    {
     "data": {
      "text/plain": [
       "<Axes: xlabel='tradeshare', ylabel='growth'>"
      ]
     },
     "execution_count": 1,
     "metadata": {},
     "output_type": "execute_result"
    },
    {
     "data": {
      "image/png": "[encoded data removed]",
      "text/plain": [
       "<Figure size 640x480 with 1 Axes>"
      ]
     },
     "metadata": {},
     "output_type": "display_data"
    }
   ],
   "source": [
    "# Library to suppress warnings\n",
    "import warnings\n",
    "warnings.filterwarnings('ignore')\n",
    "\n",
    "# Libraries that we are going to use for this exercise\n",
    "import math\n",
    "from scipy.stats import norm\n",
    "import scipy.stats as stats\n",
    "import pandas as pd\n",
    "import statsmodels.api as sm\n",
    "import numpy as np\n",
    "import matplotlib.pyplot as plt\n",
    "\n",
    "# Libraries to help with data visualization\n",
    "import matplotlib.pyplot as plt\n",
    "import seaborn as sns\n",
    "\n",
    "# load sample\n",
    "data = pd.read_excel(\"Growth.xlsx\")\n",
    "\n",
    "# Copying data to another variable to avoid any changes to the original data\n",
    "df = data.copy()\n",
    "\n",
    "# create scatter plot\n",
    "import seaborn as sns\n",
    "sns.scatterplot(x=\"tradeshare\", y=\"growth\", data=df)"
   ]
  },
  {
   "cell_type": "markdown",
   "id": "e3266903b523321f",
   "metadata": {
    "collapsed": false,
    "pycharm": {
     "name": "#%% md\n"
    }
   },
   "source": [
    "There appears to be a weak positive relationship."
   ]
  },
  {
   "cell_type": "markdown",
   "id": "f03adc47a3326355",
   "metadata": {
    "collapsed": false,
    "pycharm": {
     "name": "#%% md\n"
    }
   },
   "source": [
    "(2) Using all observations, run a regression of Growth on TradeShare. What is the estimated slope? What is the estimated intercept? What is the $R^2$? "
   ]
  },
  {
   "cell_type": "markdown",
   "id": "440e7d00",
   "metadata": {},
   "source": [
    "**Solution**:"
   ]
  },
  {
   "cell_type": "code",
   "execution_count": 2,
   "id": "2630363ed70af3d2",
   "metadata": {
    "ExecuteTime": {
     "end_time": "2023-10-10T09:50:38.040513400Z",
     "start_time": "2023-10-10T09:50:38.034574700Z"
    },
    "collapsed": false,
    "pycharm": {
     "name": "#%%\n"
    }
   },
   "outputs": [
    {
     "name": "stdout",
     "output_type": "stream",
     "text": [
      "estimated intercept is 0.64026527439535\n",
      "estimated slope is 2.3064337392222765\n",
      "R square is 0.12368020971400506\n"
     ]
    }
   ],
   "source": [
    "# conduct linear regression\n",
    "X = df[\"tradeshare\"]\n",
    "X_and_constant = sm.add_constant(X)\n",
    "Y = df[\"growth\"]\n",
    "OLS_result = sm.OLS(Y, X_and_constant).fit()\n",
    "\n",
    "print(f\"estimated intercept is {OLS_result.params[0]}\")\n",
    "print(f\"estimated slope is {OLS_result.params[1]}\")\n",
    "print(f\"R square is {OLS_result.rsquared}\")"
   ]
  },
  {
   "cell_type": "markdown",
   "id": "5ae5fe6b",
   "metadata": {},
   "source": [
    "(3) How to predict the growth rate for a country with a trade share of 0.4 given the regression function you get above? *Coding Task*: compute the predicted value using this sample."
   ]
  },
  {
   "cell_type": "markdown",
   "id": "190d9e6b",
   "metadata": {},
   "source": [
    "Suppose we get the following sample regression line:\n",
    "$$\n",
    "\\hat{Y} = \\hat{\\beta}_0 + \\hat{\\beta}_1 tradeshare\n",
    "$$\n",
    "We can plug in $tradeshare=0.4$ to get a prediction for the growth rate. \n",
    "\n",
    "In this example, we got the following result:"
   ]
  },
  {
   "cell_type": "code",
   "execution_count": 3,
   "id": "29ab13b2",
   "metadata": {},
   "outputs": [
    {
     "name": "stdout",
     "output_type": "stream",
     "text": [
      "predicted growth rate with trade share of 0.4: 1.5628387700842605\n"
     ]
    }
   ],
   "source": [
    "print(f\"predicted growth rate with trade share of 0.4: {OLS_result.params[0] + OLS_result.params[1] * 0.4}\")"
   ]
  },
  {
   "cell_type": "markdown",
   "id": "28052875e9b89d69",
   "metadata": {
    "collapsed": false,
    "pycharm": {
     "name": "#%% md\n"
    }
   },
   "source": [
    "(4) One country, Malta, has a trade share much larger than the other countries. Find Malta on the scatterplot. Does Malta look like an outlier?"
   ]
  },
  {
   "cell_type": "code",
   "execution_count": 4,
   "id": "772e59524a6c6a2a",
   "metadata": {
    "ExecuteTime": {
     "end_time": "2023-10-10T09:50:38.177318700Z",
     "start_time": "2023-10-10T09:50:38.039524600Z"
    },
    "collapsed": false,
    "pycharm": {
     "name": "#%%\n"
    }
   },
   "outputs": [
    {
     "data": {
      "text/plain": [
       "Text(64    1.992616\n",
       "Name: tradeshare, dtype: float64, 64    6.652838\n",
       "Name: growth, dtype: float64, 'Malta')"
      ]
     },
     "execution_count": 4,
     "metadata": {},
     "output_type": "execute_result"
    },
    {
     "data": {
      "image/png": "[encoded data removed]",
      "text/plain": [
       "<Figure size 640x480 with 1 Axes>"
      ]
     },
     "metadata": {},
     "output_type": "display_data"
    }
   ],
   "source": [
    "trade_share_Malta = df[\"tradeshare\"][df[\"country_name\"] == \"Malta\"]\n",
    "growth_rate_Malta = df[\"growth\"][df[\"country_name\"] == \"Malta\"]\n",
    "\n",
    "fig, ax = plt.subplots()\n",
    "sns.scatterplot(x=\"tradeshare\", y=\"growth\", data=df, ax=ax)\n",
    "ax.annotate(\"Malta\", (trade_share_Malta, growth_rate_Malta))"
   ]
  },
  {
   "cell_type": "markdown",
   "id": "a0af115320b4a580",
   "metadata": {
    "collapsed": false,
    "pycharm": {
     "name": "#%% md\n"
    }
   },
   "source": [
    "Malta is the “outlying” observation with a trade share of 2."
   ]
  },
  {
   "cell_type": "markdown",
   "id": "2488ba9c884b286e",
   "metadata": {
    "collapsed": false,
    "pycharm": {
     "name": "#%% md\n"
    }
   },
   "source": [
    "(5) Please conduct the same exercise in (2) with all observations except the data from Malta. Compare the regression functions that you get with and without including Malta."
   ]
  },
  {
   "cell_type": "code",
   "execution_count": 5,
   "id": "d53afac0614b7fe2",
   "metadata": {
    "ExecuteTime": {
     "end_time": "2023-10-10T09:50:38.181676Z",
     "start_time": "2023-10-10T09:50:38.175099700Z"
    },
    "collapsed": false,
    "pycharm": {
     "name": "#%%\n"
    }
   },
   "outputs": [
    {
     "name": "stdout",
     "output_type": "stream",
     "text": [
      "estimated intercept is 0.9574106692033824\n",
      "estimated slope is 1.6809046630545306\n",
      "R square is 0.044658090278066\n",
      "predicted growth rate with trade share of 0.4: 1.6297725344251948\n"
     ]
    }
   ],
   "source": [
    "df_without_Malta = df[df[\"country_name\"] != \"Malta\"]\n",
    "\n",
    "X = df_without_Malta[\"tradeshare\"]\n",
    "X_and_constant = sm.add_constant(X)\n",
    "Y = df_without_Malta[\"growth\"]\n",
    "OLS_result = sm.OLS(Y, X_and_constant).fit()\n",
    "\n",
    "print(f\"estimated intercept is {OLS_result.params[0]}\")\n",
    "print(f\"estimated slope is {OLS_result.params[1]}\")\n",
    "print(f\"R square is {OLS_result.rsquared}\")\n",
    "\n",
    "print(f\"predicted growth rate with trade share of 0.4: {OLS_result.params[0] + OLS_result.params[1] * 0.4}\")"
   ]
  },
  {
   "cell_type": "markdown",
   "id": "9cedbcc69615de3f",
   "metadata": {
    "collapsed": false,
    "pycharm": {
     "name": "#%% md\n"
    }
   },
   "source": [
    "Notice that the estimated intercept and slope changes significantly with and without outliers. Outliers have a power to change the estimation significantly."
   ]
  },
  {
   "cell_type": "markdown",
   "id": "27b115b31fcc4997",
   "metadata": {
    "collapsed": false,
    "pycharm": {
     "name": "#%% md\n"
    }
   },
   "source": [
    "(6)  Search on the internet and answer the following question: where is Malta? why is the Malta trade share so large? should Malta be included or excluded from the analysis?"
   ]
  },
  {
   "cell_type": "markdown",
   "id": "31bff5774863b974",
   "metadata": {
    "collapsed": false,
    "pycharm": {
     "name": "#%% md\n"
    }
   },
   "source": [
    "Malta is an island nation in the Mediterranean Sea, south of Sicily. Malta is a freight transport site, which explains its large “trade share.” Many goods coming into Malta (imports into Malta) and are immediately transported to other countries (as exports from Malta). Thus, Malta’s imports and exports are unlike the imports and exports of most other countries. Malta should not be included in the analysis."
   ]
  },
  {
   "cell_type": "markdown",
   "id": "664494ee",
   "metadata": {},
   "source": [
    "Answer the following to questions based on the regression in (5):\n",
    "\n",
    "(6) Let $\\beta_1$ be the slope coefficient before TradeShare. How to calcualte the $p$-value for $H_0:\\beta_1 = 0$? *Coding Task*: compute the $p$-value in this sample."
   ]
  },
  {
   "cell_type": "markdown",
   "id": "fe97d1c1",
   "metadata": {},
   "source": [
    "The $p$-value for $H_0:\\beta_1 = 0$ can be expressed as\n",
    "$$\n",
    "p-value = \\mathbb P\\left(  \\left| \\frac{\\hat{\\beta}_1 - 0}{\\hat{\\sigma}_{\\hat{\\beta}_1}}  \\right| >  \\delta   \\right)\n",
    "$$\n",
    "where $\\delta$ is the actual value of $\\left| \\frac{\\hat{\\beta}_1 - 0}{\\hat{\\sigma}_{\\hat{\\beta}_1}}  \\right|$ calcualted from the sample. \n",
    "\n",
    "Since we know \n",
    "$$\n",
    "\\hat{\\beta}_1 \\sim N(\\beta_1, \\hat{\\sigma}^2_{\\hat{\\beta}_1}) \\text{ approximately},\n",
    "$$\n",
    "we have the following result under $H_0$\n",
    "$$\n",
    "\\text{p value} = 2\\Phi\\left(  -\\delta   \\right)\n",
    "$$\n",
    "\n",
    "In this sample, the p value can be computed as follows"
   ]
  },
  {
   "cell_type": "code",
   "execution_count": 6,
   "id": "cad3e7d6",
   "metadata": {},
   "outputs": [
    {
     "name": "stdout",
     "output_type": "stream",
     "text": [
      "p value = 0.04850367855624828\n"
     ]
    }
   ],
   "source": [
    "beta_hat_0 = OLS_result.params[0]\n",
    "beta_hat_1 = OLS_result.params[1]\n",
    "\n",
    "U_hat = Y - beta_hat_0 - beta_hat_1 * X\n",
    "D = (X - np.average(X)) * U_hat\n",
    "var_hat_D = np.var(D) \n",
    "\n",
    "var_hat_X = np.var(X) \n",
    "\n",
    "n = X.size  # sample size\n",
    "sigma_hat_beta_1 = math.sqrt(var_hat_D / (var_hat_X * var_hat_X) / n)\n",
    "\n",
    "T = math.fabs(beta_hat_1 / sigma_hat_beta_1)\n",
    "\n",
    "from scipy.stats import norm\n",
    "p_val = 2 * norm.cdf(-T)\n",
    "print(f\"p value = {p_val}\")"
   ]
  },
  {
   "cell_type": "markdown",
   "id": "09a9554c",
   "metadata": {},
   "source": [
    "(7) Given the $p$-value that you calcualted above, can you reject the null hypothesis $H_0$ : $\\beta_1 = 0$ vs. $H_1$: $\\beta_1\\neq 0$ at the 10\\%, 5\\%, or 1\\% significance level? "
   ]
  },
  {
   "cell_type": "markdown",
   "id": "06edd9d7",
   "metadata": {},
   "source": [
    "We only need to compare the p value with these significance levels. In this sample, p value is approximately $4.85\\%$. Thus, we will reject this null hypothesis at 10\\% and 5\\%significance levels. However, we cannot reject this null hypothesis at $1\\%$ significance level."
   ]
  },
  {
   "cell_type": "markdown",
   "id": "3ed938fe60545c18",
   "metadata": {
    "collapsed": false,
    "pycharm": {
     "name": "#%% md\n"
    }
   },
   "source": []
  }
 ],
 "metadata": {
  "kernelspec": {
   "display_name": "Python 3 (ipykernel)",
   "language": "python",
   "name": "python3"
  },
  "language_info": {
   "codemirror_mode": {
    "name": "ipython",
    "version": 3
   },
   "file_extension": ".py",
   "mimetype": "text/x-python",
   "name": "python",
   "nbconvert_exporter": "python",
   "pygments_lexer": "ipython3",
   "version": "3.12.4"
  }
 },
 "nbformat": 4,
 "nbformat_minor": 5
}
